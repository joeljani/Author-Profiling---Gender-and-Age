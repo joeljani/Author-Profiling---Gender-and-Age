{
 "cells": [
  {
   "cell_type": "markdown",
   "metadata": {},
   "source": [
    "# Author Profiling - Gender and Age"
   ]
  },
  {
   "cell_type": "markdown",
   "metadata": {},
   "source": [
    "# Goal"
   ]
  },
  {
   "cell_type": "markdown",
   "metadata": {},
   "source": [
    "Develop three different classifiers which identificates by which\n",
    "- gender,\n",
    "- age group,\n",
    "- age group and gender combined,\n",
    "\n",
    "a given text is written."
   ]
  },
  {
   "cell_type": "markdown",
   "metadata": {},
   "source": [
    "At the end under the section: \"Classifiers on the dummy test data\",\n",
    "the test dataset can be uploaded. The classify methods then print out the classification reports for the three cases."
   ]
  },
  {
   "cell_type": "code",
   "execution_count": 1,
   "metadata": {},
   "outputs": [],
   "source": [
    "import nltk\n",
    "import numpy as np\n",
    "import pandas as pd\n",
    "from sklearn.feature_extraction.text import TfidfTransformer, CountVectorizer\n",
    "from sklearn.naive_bayes import MultinomialNB\n",
    "from sklearn.metrics import confusion_matrix\n",
    "from sklearn.metrics import classification_report\n",
    "from sklearn.linear_model import SGDClassifier\n",
    "from sklearn.pipeline import Pipeline\n",
    "from matplotlib import pyplot as plt\n",
    "import numpy as np\n",
    "from sklearn import metrics\n",
    "from sklearn.utils.multiclass import unique_labels\n",
    "import itertools\n",
    "import re\n",
    "from nltk.corpus import stopwords\n",
    "from bs4 import BeautifulSoup\n",
    "from nltk.tokenize import word_tokenize\n",
    "from nltk import FreqDist\n",
    "import collections\n",
    "import operator\n",
    "from nltk.stem import PorterStemmer\n",
    "ps = PorterStemmer()\n",
    "from scipy.sparse import csr_matrix\n",
    "from nltk.corpus import words as nltk_words\n",
    "from sklearn.feature_extraction.text import TfidfVectorizer"
   ]
  },
  {
   "cell_type": "code",
   "execution_count": 2,
   "metadata": {},
   "outputs": [],
   "source": [
    "#helper function for plotting\n",
    "def plot_confusion_matrix_version2(cm, classes, title = 'Confusion matrix', cmap = plt.cm.Greens):\n",
    "    plt.title(title)\n",
    "    tick_marks = np.arange(len(classes))\n",
    "    plt.xticks(tick_marks, classes, rotation = 45)\n",
    "    plt.yticks(tick_marks, classes)\n",
    "\n",
    "    cm_norm = cm.astype('float') / cm.sum(axis=1)[:, np.newaxis]\n",
    "    cm_norm[np.isnan(cm_norm)] = 0\n",
    "    cm_norm = np.around(cm_norm, decimals = 3)\n",
    "        \n",
    "    plt.imshow(cm_norm, interpolation='nearest', cmap = cmap)\n",
    "    \n",
    "    thresh = cm_norm.max() / 2.\n",
    "    for i, j in itertools.product(range(cm_norm.shape[0]), range(cm_norm.shape[1])):\n",
    "        plt.text(j, i, cm[i, j], horizontalalignment=\"center\", color=\"black\" if cm_norm[i, j] > thresh else \"black\")\n",
    "\n",
    "    plt.tight_layout()\n",
    "    plt.ylabel('True label')\n",
    "    plt.xlabel('Predicted label')\n",
    "    plt.show()"
   ]
  },
  {
   "cell_type": "markdown",
   "metadata": {},
   "source": [
    "# Read data"
   ]
  },
  {
   "cell_type": "code",
   "execution_count": 3,
   "metadata": {},
   "outputs": [],
   "source": [
    "train_messages = pd.read_csv('Messages_train.csv', sep=',')"
   ]
  },
  {
   "cell_type": "markdown",
   "metadata": {},
   "source": [
    "# Text preprocessing\n"
   ]
  },
  {
   "cell_type": "code",
   "execution_count": 4,
   "metadata": {},
   "outputs": [],
   "source": [
    "REPLACE_BY_SPACE_RE = re.compile('[/<>=/:()-_.0-9{}\\[\\]\\|@,;]')\n",
    "def clean_text(text):\n",
    "    \"\"\"\n",
    "        text: a string\n",
    "        \n",
    "        return: modified string\n",
    "    \"\"\"\n",
    "    text = BeautifulSoup(text, \"lxml\").text # HTML decoding\n",
    "    text = text.lower() # lowercase text\n",
    "    text = REPLACE_BY_SPACE_RE.sub('', text) # replace REPLACE_BY_SPACE_RE symbols by space in text\n",
    "    return text"
   ]
  },
  {
   "cell_type": "code",
   "execution_count": 5,
   "metadata": {},
   "outputs": [
    {
     "name": "stderr",
     "output_type": "stream",
     "text": [
      "/anaconda3/lib/python3.7/site-packages/bs4/__init__.py:336: UserWarning: \"http://www.amazon.com/Briana-Lee/wishlist/2WU6WBPD4BDJIhttp://www.brianaleeextreme.com\" looks like a URL. Beautiful Soup is not an HTTP client. You should probably use an HTTP client like requests to get the document behind the URL, and feed that document to Beautiful Soup.\n",
      "  ' that document to Beautiful Soup.' % decoded_markup\n"
     ]
    }
   ],
   "source": [
    "train_messages['text'] = train_messages['text'].apply(clean_text)"
   ]
  },
  {
   "cell_type": "markdown",
   "metadata": {},
   "source": [
    "# Label setting"
   ]
  },
  {
   "cell_type": "code",
   "execution_count": 6,
   "metadata": {},
   "outputs": [],
   "source": [
    "#set person_gender label to 0 for male and 1 for female\n",
    "def numeric_label_setting_for_gender(labels):\n",
    "    numeric_label = np.zeros(len(labels))\n",
    "    for i in range(len(labels)):\n",
    "        if(labels[i] == 'female'):\n",
    "            numeric_label[i] = 1\n",
    "        else:\n",
    "            numeric_label[i] = 0\n",
    "    return numeric_label"
   ]
  },
  {
   "cell_type": "code",
   "execution_count": 7,
   "metadata": {},
   "outputs": [],
   "source": [
    "#set person_age label to 0 for 10s and 1 for 20s, 2 for 30s\n",
    "def numeric_label_setting_for_age(labels):\n",
    "    numeric_label = np.zeros(len(labels))\n",
    "    for i in range(len(labels)):\n",
    "        if(labels[i] == '10s'):\n",
    "            numeric_label[i] = 1\n",
    "        elif (labels[i] == '20s'):\n",
    "            numeric_label[i] = 2\n",
    "        else:\n",
    "            numeric_label[i] = 3\n",
    "    return numeric_label"
   ]
  },
  {
   "cell_type": "code",
   "execution_count": 8,
   "metadata": {},
   "outputs": [],
   "source": [
    "def numeric_label_setting_for_gender_and_age(gender_label, age_label):\n",
    "    \"\"\"\n",
    "    set combined label to 0 for male and 10s\n",
    "                      1 for male and 20s\n",
    "                      3 for male and 30s\n",
    "                      4 for female and 10s\n",
    "                      5 for female and 20s\n",
    "                      6 for female and 30s\n",
    "                      \n",
    "    returns numeric values\n",
    "    \"\"\"\n",
    "    numeric_label = np.zeros(len(gender_label))\n",
    "    for i in range(len(gender_label)):\n",
    "        if(gender_label[i] == 'male' and age_label[i] == '10s'):\n",
    "            numeric_label[i] = 1\n",
    "            \n",
    "        elif (gender_label[i] == 'male' and age_label[i] == '20s'):\n",
    "            numeric_label[i] = 2\n",
    "            \n",
    "        elif (gender_label[i] == 'male' and age_label[i] == '30s'):\n",
    "            numeric_label[i] = 3\n",
    "            \n",
    "        elif (gender_label[i] == 'female' and age_label[i] == '10s'):\n",
    "            numeric_label[i] = 4\n",
    "            \n",
    "        elif (gender_label[i] == 'female' and age_label[i] == '20s'):\n",
    "            numeric_label[i] = 5\n",
    "            \n",
    "        elif (gender_label[i] == 'female' and age_label[i] == '30s'):\n",
    "            numeric_label[i] = 6\n",
    "        \n",
    "    return numeric_label"
   ]
  },
  {
   "cell_type": "markdown",
   "metadata": {},
   "source": [
    "# Prepare training and test datasets"
   ]
  },
  {
   "cell_type": "code",
   "execution_count": 9,
   "metadata": {},
   "outputs": [],
   "source": [
    "from sklearn.model_selection import train_test_split\n",
    "train, test = train_test_split(train_messages, test_size=0.2)"
   ]
  },
  {
   "cell_type": "code",
   "execution_count": 10,
   "metadata": {},
   "outputs": [],
   "source": [
    "X_train = train['text'].values\n",
    "X_test = test['text'].values"
   ]
  },
  {
   "cell_type": "code",
   "execution_count": 11,
   "metadata": {},
   "outputs": [],
   "source": [
    "# training set\n",
    "y_train_gender = numeric_label_setting_for_gender(train['person_gender'].values)\n",
    "y_train_gender = y_train_gender.astype('int')\n",
    "\n",
    "y_train_age    = numeric_label_setting_for_age(train['person_age'].values)\n",
    "y_train_age    = y_train_age.astype('int')"
   ]
  },
  {
   "cell_type": "code",
   "execution_count": 12,
   "metadata": {},
   "outputs": [],
   "source": [
    "# training set (gender and age)\n",
    "y_train_gender_and_age = numeric_label_setting_for_gender_and_age(train['person_gender'].values, \n",
    "                                                            train['person_age'].values)\n",
    "y_train_gender_and_age    = y_train_gender_and_age.astype('int')"
   ]
  },
  {
   "cell_type": "code",
   "execution_count": 13,
   "metadata": {},
   "outputs": [],
   "source": [
    "# test set\n",
    "y_test_gender = numeric_label_setting_for_gender(test['person_gender'].values)\n",
    "y_test_gender = y_test_gender.astype('int')\n",
    "\n",
    "y_test_age = numeric_label_setting_for_age(test['person_age'].values)\n",
    "y_test_age = y_test_age.astype('int')"
   ]
  },
  {
   "cell_type": "code",
   "execution_count": 14,
   "metadata": {},
   "outputs": [],
   "source": [
    "# test set (gender and age)\n",
    "y_test_gender_and_age = numeric_label_setting_for_gender_and_age(test['person_gender'].values, \n",
    "                                                            test['person_age'].values)\n",
    "y_test_gender_and_age = y_test_gender_and_age.astype('int')"
   ]
  },
  {
   "cell_type": "code",
   "execution_count": 15,
   "metadata": {},
   "outputs": [],
   "source": [
    "from sklearn.feature_extraction.text import CountVectorizer\n",
    "\n",
    "vectorizer = CountVectorizer(lowercase=False, ngram_range=(2,2), analyzer='word')\n",
    "vectorizer.fit(X_train)\n",
    "\n",
    "\n",
    "X_train = vectorizer.transform(X_train)\n",
    "X_test  = vectorizer.transform(X_test)"
   ]
  },
  {
   "cell_type": "code",
   "execution_count": 16,
   "metadata": {},
   "outputs": [
    {
     "data": {
      "text/plain": [
       "(80000, 6203412)"
      ]
     },
     "execution_count": 16,
     "metadata": {},
     "output_type": "execute_result"
    }
   ],
   "source": [
    "tf_transformer = TfidfTransformer(use_idf=False).fit(X_train)\n",
    "X_train_tf = tf_transformer.transform(X_train)\n",
    "X_train_tf.shape"
   ]
  },
  {
   "cell_type": "code",
   "execution_count": 17,
   "metadata": {},
   "outputs": [
    {
     "data": {
      "text/plain": [
       "(80000, 6203412)"
      ]
     },
     "execution_count": 17,
     "metadata": {},
     "output_type": "execute_result"
    }
   ],
   "source": [
    "tfidf_transformer = TfidfTransformer()\n",
    "X_train_tfidf = tfidf_transformer.fit_transform(X_train)\n",
    "X_train_tfidf.shape"
   ]
  },
  {
   "cell_type": "markdown",
   "metadata": {},
   "source": [
    "## Classifier Gender"
   ]
  },
  {
   "cell_type": "code",
   "execution_count": 18,
   "metadata": {},
   "outputs": [
    {
     "name": "stdout",
     "output_type": "stream",
     "text": [
      "Accuracy: 0.59745\n"
     ]
    }
   ],
   "source": [
    "classifier_gender = MultinomialNB()\n",
    "classifier_gender.fit(X_train, y_train_gender)\n",
    "\n",
    "score = classifier_gender.score(X_test, y_test_gender)\n",
    "\n",
    "print(\"Accuracy:\", score)"
   ]
  },
  {
   "cell_type": "code",
   "execution_count": 19,
   "metadata": {},
   "outputs": [],
   "source": [
    "predicted_gender = classifier_gender.predict(X_test)"
   ]
  },
  {
   "cell_type": "code",
   "execution_count": 20,
   "metadata": {},
   "outputs": [
    {
     "data": {
      "text/plain": [
       "0.59745"
      ]
     },
     "execution_count": 20,
     "metadata": {},
     "output_type": "execute_result"
    }
   ],
   "source": [
    "from sklearn.metrics import accuracy_score\n",
    "accuracy_score(y_test_gender, predicted_gender)"
   ]
  },
  {
   "cell_type": "code",
   "execution_count": 21,
   "metadata": {},
   "outputs": [
    {
     "data": {
      "text/plain": [
       "array([[5072, 5361],\n",
       "       [2690, 6877]])"
      ]
     },
     "execution_count": 21,
     "metadata": {},
     "output_type": "execute_result"
    }
   ],
   "source": [
    "cm = confusion_matrix(y_test_gender, predicted_gender)\n",
    "cm"
   ]
  },
  {
   "cell_type": "code",
   "execution_count": 22,
   "metadata": {},
   "outputs": [],
   "source": [
    "class_names = ['male', 'female']"
   ]
  },
  {
   "cell_type": "code",
   "execution_count": 23,
   "metadata": {},
   "outputs": [
    {
     "data": {
      "image/png": "[encoded data removed]",
      "text/plain": [
       "<Figure size 432x288 with 1 Axes>"
      ]
     },
     "metadata": {
      "needs_background": "light"
     },
     "output_type": "display_data"
    }
   ],
   "source": [
    "plot_confusion_matrix_version2(cm, classes=class_names,\n",
    "                      title='Confusion matrix, without normalization')\n",
    "plt.show()"
   ]
  },
  {
   "cell_type": "code",
   "execution_count": 24,
   "metadata": {},
   "outputs": [
    {
     "data": {
      "text/plain": [
       "0.59745"
      ]
     },
     "execution_count": 24,
     "metadata": {},
     "output_type": "execute_result"
    }
   ],
   "source": [
    "from sklearn.metrics import accuracy_score\n",
    "accuracy_score(y_test_gender, predicted_gender)"
   ]
  },
  {
   "cell_type": "code",
   "execution_count": 25,
   "metadata": {},
   "outputs": [
    {
     "name": "stdout",
     "output_type": "stream",
     "text": [
      "              precision    recall  f1-score   support\n",
      "\n",
      "           0       0.65      0.49      0.56     10433\n",
      "           1       0.56      0.72      0.63      9567\n",
      "\n",
      "   micro avg       0.60      0.60      0.60     20000\n",
      "   macro avg       0.61      0.60      0.59     20000\n",
      "weighted avg       0.61      0.60      0.59     20000\n",
      "\n"
     ]
    }
   ],
   "source": [
    "print(classification_report(y_test_gender, predicted_gender))"
   ]
  },
  {
   "cell_type": "markdown",
   "metadata": {},
   "source": [
    "## Classifier Age"
   ]
  },
  {
   "cell_type": "code",
   "execution_count": 26,
   "metadata": {},
   "outputs": [],
   "source": [
    "def classify_age(text):\n",
    "    return '30s'"
   ]
  },
  {
   "cell_type": "code",
   "execution_count": 27,
   "metadata": {},
   "outputs": [
    {
     "name": "stdout",
     "output_type": "stream",
     "text": [
      "Accuracy: 0.59255\n"
     ]
    }
   ],
   "source": [
    "classifier_age = MultinomialNB()\n",
    "classifier_age.fit(X_train, y_train_age)\n",
    "\n",
    "score = classifier_age.score(X_test, y_test_age)\n",
    "\n",
    "print(\"Accuracy:\", score)"
   ]
  },
  {
   "cell_type": "code",
   "execution_count": 28,
   "metadata": {},
   "outputs": [],
   "source": [
    "predicted_age = classifier_age.predict(X_test)"
   ]
  },
  {
   "cell_type": "code",
   "execution_count": 29,
   "metadata": {},
   "outputs": [
    {
     "data": {
      "text/plain": [
       "0.59255"
      ]
     },
     "execution_count": 29,
     "metadata": {},
     "output_type": "execute_result"
    }
   ],
   "source": [
    "accuracy_score(y_test_age, predicted_age)"
   ]
  },
  {
   "cell_type": "code",
   "execution_count": 30,
   "metadata": {},
   "outputs": [],
   "source": [
    "cm = confusion_matrix(y_test_age, predicted_age)"
   ]
  },
  {
   "cell_type": "code",
   "execution_count": 31,
   "metadata": {},
   "outputs": [
    {
     "data": {
      "text/plain": [
       "array([[  242,   217,  2719],\n",
       "       [   42,  1301,  4654],\n",
       "       [   71,   446, 10308]])"
      ]
     },
     "execution_count": 31,
     "metadata": {},
     "output_type": "execute_result"
    }
   ],
   "source": [
    "cm"
   ]
  },
  {
   "cell_type": "code",
   "execution_count": 32,
   "metadata": {},
   "outputs": [],
   "source": [
    "class_names = ['10s', '20s', '30s']"
   ]
  },
  {
   "cell_type": "code",
   "execution_count": 33,
   "metadata": {},
   "outputs": [
    {
     "data": {
      "image/png": "[encoded data removed]",
      "text/plain": [
       "<Figure size 432x288 with 1 Axes>"
      ]
     },
     "metadata": {
      "needs_background": "light"
     },
     "output_type": "display_data"
    }
   ],
   "source": [
    "plot_confusion_matrix_version2(cm, classes=class_names,\n",
    "                      title='Confusion matrix, without normalization')\n",
    "plt.show()"
   ]
  },
  {
   "cell_type": "code",
   "execution_count": 34,
   "metadata": {},
   "outputs": [
    {
     "name": "stdout",
     "output_type": "stream",
     "text": [
      "              precision    recall  f1-score   support\n",
      "\n",
      "           1       0.68      0.08      0.14      3178\n",
      "           2       0.66      0.22      0.33      5997\n",
      "           3       0.58      0.95      0.72     10825\n",
      "\n",
      "   micro avg       0.59      0.59      0.59     20000\n",
      "   macro avg       0.64      0.42      0.40     20000\n",
      "weighted avg       0.62      0.59      0.51     20000\n",
      "\n"
     ]
    }
   ],
   "source": [
    "print(classification_report(y_test_age, predicted_age))"
   ]
  },
  {
   "cell_type": "markdown",
   "metadata": {},
   "source": [
    "## Classifier gender and age combined"
   ]
  },
  {
   "cell_type": "code",
   "execution_count": 35,
   "metadata": {},
   "outputs": [
    {
     "name": "stdout",
     "output_type": "stream",
     "text": [
      "Accuracy: 0.3628\n"
     ]
    }
   ],
   "source": [
    "classifier_gender_and_age = MultinomialNB()\n",
    "classifier_gender_and_age.fit(X_train, y_train_gender_and_age)\n",
    "\n",
    "score = classifier_gender_and_age.score(X_test, y_test_gender_and_age)\n",
    "\n",
    "print(\"Accuracy:\", score)"
   ]
  },
  {
   "cell_type": "code",
   "execution_count": 36,
   "metadata": {},
   "outputs": [],
   "source": [
    "predicted_gender_and_age = classifier_gender_and_age.predict(X_test)"
   ]
  },
  {
   "cell_type": "code",
   "execution_count": 37,
   "metadata": {},
   "outputs": [
    {
     "data": {
      "text/plain": [
       "0.3628"
      ]
     },
     "execution_count": 37,
     "metadata": {},
     "output_type": "execute_result"
    }
   ],
   "source": [
    "accuracy_score(y_test_gender_and_age, predicted_gender_and_age)"
   ]
  },
  {
   "cell_type": "code",
   "execution_count": 38,
   "metadata": {},
   "outputs": [
    {
     "data": {
      "text/plain": [
       "array([[ 129,   69,   77,    6,    6, 1671],\n",
       "       [  10,  649,  382,    4,   43, 2532],\n",
       "       [  11,  126,  791,    5,   15, 3907],\n",
       "       [  11,   79,   48,   25,    5, 1052],\n",
       "       [   5,  182,  151,    4,  116, 1919],\n",
       "       [  15,   92,  290,    5,   22, 5546]])"
      ]
     },
     "execution_count": 38,
     "metadata": {},
     "output_type": "execute_result"
    }
   ],
   "source": [
    "cm = confusion_matrix(y_test_gender_and_age, predicted_gender_and_age)\n",
    "cm"
   ]
  },
  {
   "cell_type": "code",
   "execution_count": 39,
   "metadata": {},
   "outputs": [],
   "source": [
    "class_names = ['male_10s', 'male_20s', 'male_30s', 'female_10s', 'female_20s', 'female_30s']"
   ]
  },
  {
   "cell_type": "code",
   "execution_count": 40,
   "metadata": {},
   "outputs": [
    {
     "data": {
      "image/png": "[encoded data removed]",
      "text/plain": [
       "<Figure size 432x288 with 1 Axes>"
      ]
     },
     "metadata": {
      "needs_background": "light"
     },
     "output_type": "display_data"
    }
   ],
   "source": [
    "plot_confusion_matrix_version2(cm, classes=class_names,\n",
    "                      title='Confusion matrix, without normalization')\n",
    "plt.show()"
   ]
  },
  {
   "cell_type": "code",
   "execution_count": 41,
   "metadata": {},
   "outputs": [
    {
     "name": "stdout",
     "output_type": "stream",
     "text": [
      "              precision    recall  f1-score   support\n",
      "\n",
      "           1       0.48      0.09      0.15      1958\n",
      "           2       0.44      0.24      0.31      3620\n",
      "           3       0.26      0.95      0.41      4855\n",
      "           4       0.00      0.00      0.00      1220\n",
      "           5       0.00      0.00      0.00      2377\n",
      "           6       0.00      0.00      0.00      5970\n",
      "\n",
      "   micro avg       0.28      0.28      0.28     20000\n",
      "   macro avg       0.20      0.21      0.14     20000\n",
      "weighted avg       0.19      0.28      0.17     20000\n",
      "\n"
     ]
    },
    {
     "name": "stderr",
     "output_type": "stream",
     "text": [
      "/anaconda3/lib/python3.7/site-packages/sklearn/metrics/classification.py:1143: UndefinedMetricWarning: Precision and F-score are ill-defined and being set to 0.0 in labels with no predicted samples.\n",
      "  'precision', 'predicted', average, warn_for)\n"
     ]
    }
   ],
   "source": [
    "print(classification_report(y_test_gender_and_age, predicted_age))"
   ]
  },
  {
   "cell_type": "markdown",
   "metadata": {},
   "source": [
    "# Predictions on the dummy test data"
   ]
  },
  {
   "cell_type": "code",
   "execution_count": 66,
   "metadata": {},
   "outputs": [],
   "source": [
    "test_messages = pd.read_csv('dummy_test.csv', sep=',')\n",
    "\n",
    "##### uncomment following code if text contains html! #####\n",
    "\n",
    "#test_messages['text'] = test_messages['text'].apply(clean_text)"
   ]
  },
  {
   "cell_type": "markdown",
   "metadata": {},
   "source": [
    "## Gender prediction"
   ]
  },
  {
   "cell_type": "code",
   "execution_count": 67,
   "metadata": {},
   "outputs": [],
   "source": [
    "def classify_on_dummy_data_gender(dummy_data):\n",
    "    \"\"\"Classifies the given text dataset. Prints the confusion matrix and a classification report\n",
    "\n",
    "    Args:\n",
    "      dummy_data: dataset with texts\n",
    "    \"\"\"\n",
    "    X_test = dummy_data['text'].values\n",
    "    X_test = vectorizer.transform(X_test)\n",
    "    \n",
    "    y_test_gender = numeric_label_setting_for_gender(dummy_data['person_gender'].values)\n",
    "    y_test_gender = y_test_gender.astype('int')\n",
    "    \n",
    "    predicted_gender = classifier_gender.predict(X_test)\n",
    "    \n",
    "    cm = confusion_matrix(y_test_gender, predicted_gender)\n",
    "    plot_confusion_matrix_version2(cm, classes=class_names,\n",
    "                      title='Confusion matrix, without normalization')\n",
    "    plt.show()\n",
    "    print('Classification report: \\n\\n', classification_report(y_test_gender, predicted_gender))\n",
    "    print('Accuracy:', accuracy_score(y_test_gender, predicted_gender))"
   ]
  },
  {
   "cell_type": "code",
   "execution_count": 68,
   "metadata": {},
   "outputs": [
    {
     "data": {
      "image/png": "[encoded data removed]",
      "text/plain": [
       "<Figure size 432x288 with 1 Axes>"
      ]
     },
     "metadata": {
      "needs_background": "light"
     },
     "output_type": "display_data"
    },
    {
     "name": "stdout",
     "output_type": "stream",
     "text": [
      "Classification report: \n",
      "\n",
      "               precision    recall  f1-score   support\n",
      "\n",
      "           0       0.56      0.33      0.42        15\n",
      "           1       0.52      0.73      0.61        15\n",
      "\n",
      "   micro avg       0.53      0.53      0.53        30\n",
      "   macro avg       0.54      0.53      0.51        30\n",
      "weighted avg       0.54      0.53      0.51        30\n",
      "\n",
      "Accuracy: 0.5333333333333333\n"
     ]
    }
   ],
   "source": [
    "classify_on_dummy_data_gender(test_messages)"
   ]
  },
  {
   "cell_type": "markdown",
   "metadata": {},
   "source": [
    "## Age prediction"
   ]
  },
  {
   "cell_type": "code",
   "execution_count": 69,
   "metadata": {},
   "outputs": [],
   "source": [
    "def classify_on_dummy_data_age(dummy_data):\n",
    "    \"\"\"Classifies the given text dataset. Prints the confusion matrix and a classification report\n",
    "\n",
    "    Args:\n",
    "      dummy_data: dataset with texts\n",
    "    \"\"\"\n",
    "    X_test = dummy_data['text'].values\n",
    "    X_test = vectorizer.transform(X_test)\n",
    "  \n",
    "    \n",
    "    y_test_age = numeric_label_setting_for_age(dummy_data['person_age'].values)\n",
    "    y_test_age = y_test_age.astype('int')\n",
    "    \n",
    "    predicted_age = classifier_age.predict(X_test)\n",
    "    \n",
    "    cm = confusion_matrix(y_test_age, predicted_age)\n",
    "    class_names = ['10s', '20s', '30s']\n",
    "    plot_confusion_matrix_version2(cm, classes=class_names,\n",
    "                      title='Confusion matrix, without normalization')\n",
    "    plt.show()\n",
    "    print('Classification report: \\n\\n', classification_report(y_test_age, predicted_age))\n",
    "    print('Accuracy:', accuracy_score(y_test_age, predicted_age))"
   ]
  },
  {
   "cell_type": "code",
   "execution_count": 70,
   "metadata": {},
   "outputs": [
    {
     "data": {
      "image/png": "[encoded data removed]",
      "text/plain": [
       "<Figure size 432x288 with 1 Axes>"
      ]
     },
     "metadata": {
      "needs_background": "light"
     },
     "output_type": "display_data"
    },
    {
     "name": "stdout",
     "output_type": "stream",
     "text": [
      "Classification report: \n",
      "\n",
      "               precision    recall  f1-score   support\n",
      "\n",
      "           1       0.00      0.00      0.00        10\n",
      "           2       0.00      0.00      0.00        10\n",
      "           3       0.33      0.90      0.49        10\n",
      "\n",
      "   micro avg       0.30      0.30      0.30        30\n",
      "   macro avg       0.11      0.30      0.16        30\n",
      "weighted avg       0.11      0.30      0.16        30\n",
      "\n",
      "Accuracy: 0.3\n"
     ]
    }
   ],
   "source": [
    "classify_on_dummy_data_age(test_messages)"
   ]
  },
  {
   "cell_type": "markdown",
   "metadata": {},
   "source": [
    "## Gender and age combined prediction"
   ]
  },
  {
   "cell_type": "code",
   "execution_count": 71,
   "metadata": {},
   "outputs": [],
   "source": [
    "def classify_on_dummy_data_gender_and_age(dummy_data):\n",
    "    \"\"\"Classifies the given text dataset. Prints the confusion matrix and a classification report\n",
    "\n",
    "    Args:\n",
    "      dummy_data: dataset with texts\n",
    "    \"\"\"\n",
    "    X_test = dummy_data['text'].values\n",
    "    X_test = vectorizer.transform(X_test)\n",
    "  \n",
    "    \n",
    "    y_test_gender_and_age = numeric_label_setting_for_gender_and_age(dummy_data['person_gender'].values, \n",
    "                                                            dummy_data['person_age'].values)\n",
    "    y_test_gender_and_age = y_test_gender_and_age.astype('int')\n",
    "    \n",
    "    predicted_gender_and_age = classifier_gender_and_age.predict(X_test)   \n",
    "    \n",
    "    cm = confusion_matrix(y_test_gender_and_age, predicted_gender_and_age)\n",
    "    class_names = ['male_10s', 'male_20s', 'male_30s', 'female_10s', 'female_20s', 'female_30s']    \n",
    "    plot_confusion_matrix_version2(cm, classes=class_names,\n",
    "                      title='Confusion matrix, without normalization')\n",
    "    plt.show()\n",
    "    print('Classification report: \\n\\n', classification_report(y_test_gender_and_age, predicted_gender_and_age))\n",
    "    print('Accuracy:', accuracy_score(y_test_gender_and_age, predicted_gender_and_age))"
   ]
  },
  {
   "cell_type": "code",
   "execution_count": 72,
   "metadata": {},
   "outputs": [
    {
     "data": {
      "image/png": "[encoded data removed]",
      "text/plain": [
       "<Figure size 432x288 with 1 Axes>"
      ]
     },
     "metadata": {
      "needs_background": "light"
     },
     "output_type": "display_data"
    },
    {
     "name": "stdout",
     "output_type": "stream",
     "text": [
      "Classification report: \n",
      "\n",
      "               precision    recall  f1-score   support\n",
      "\n",
      "           1       0.00      0.00      0.00         5\n",
      "           2       0.00      0.00      0.00         5\n",
      "           3       0.50      0.20      0.29         5\n",
      "           4       0.00      0.00      0.00         5\n",
      "           5       0.00      0.00      0.00         5\n",
      "           6       0.15      0.80      0.26         5\n",
      "\n",
      "   micro avg       0.17      0.17      0.17        30\n",
      "   macro avg       0.11      0.17      0.09        30\n",
      "weighted avg       0.11      0.17      0.09        30\n",
      "\n",
      "Accuracy: 0.16666666666666666\n"
     ]
    }
   ],
   "source": [
    "classify_on_dummy_data_gender_and_age(test_messages)"
   ]
  }
 ],
 "metadata": {
  "kernelspec": {
   "display_name": "Python 3",
   "language": "python",
   "name": "python3"
  },
  "language_info": {
   "codemirror_mode": {
    "name": "ipython",
    "version": 3
   },
   "file_extension": ".py",
   "mimetype": "text/x-python",
   "name": "python",
   "nbconvert_exporter": "python",
   "pygments_lexer": "ipython3",
   "version": "3.7.4"
  }
 },
 "nbformat": 4,
 "nbformat_minor": 4
}
